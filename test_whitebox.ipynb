{
 "cells": [
  {
   "cell_type": "code",
   "execution_count": null,
   "id": "0c0cead8",
   "metadata": {},
   "outputs": [],
   "source": [
    "import logging\n",
    "\n",
    "logging.basicConfig(level=logging.INFO, format=\"%(asctime)s - %(levelname)s - %(message)s\")\n",
    "\n",
    "from extract_basin_shapefiles import extract_basin_shapefiles\n"
   ]
  },
  {
   "cell_type": "code",
   "execution_count": null,
   "id": "c9df25a3",
   "metadata": {},
   "outputs": [],
   "source": [
    "dem_path = \"/Users/cooper/Desktop/kazakhstan-data/rasters/KAZ_dem.tif\"\n",
    "gauges_path = \"/Users/cooper/Desktop/kazakhstan-data/shapefiles/gauge_location.shp\"\n",
    "output_dir = \"/Users/cooper/Desktop/kazakhstan-data/shapefiles\"\n",
    "\n",
    "result_shapefile = extract_basin_shapefiles(\n",
    "    dem_path=dem_path,\n",
    "    gauges_shapefile_path=gauges_path,\n",
    "    output_directory=output_dir,\n",
    "    breach_dist=5,\n",
    "    stream_extract_threshold=100,\n",
    "    snap_dist=0.003,\n",
    "    batch_size=200,\n",
    "    n_workers=1,\n",
    "    use_watershed_function=True,\n",
    ")\n"
   ]
  },
  {
   "cell_type": "code",
   "execution_count": null,
   "id": "043d5aec",
   "metadata": {},
   "outputs": [],
   "source": []
  },
  {
   "cell_type": "code",
   "execution_count": null,
   "id": "f727a8df",
   "metadata": {},
   "outputs": [],
   "source": []
  }
 ],
 "metadata": {
  "kernelspec": {
   "display_name": ".venv",
   "language": "python",
   "name": "python3"
  },
  "language_info": {
   "codemirror_mode": {
    "name": "ipython",
    "version": 3
   },
   "file_extension": ".py",
   "mimetype": "text/x-python",
   "name": "python",
   "nbconvert_exporter": "python",
   "pygments_lexer": "ipython3",
   "version": "3.12.8"
  }
 },
 "nbformat": 4,
 "nbformat_minor": 5
}
