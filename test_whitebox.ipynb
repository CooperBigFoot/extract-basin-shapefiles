{
 "cells": [
  {
   "cell_type": "code",
   "execution_count": null,
   "id": "0c0cead8",
   "metadata": {},
   "outputs": [],
   "source": [
    "import logging\n",
    "\n",
    "logging.basicConfig(level=logging.INFO, format=\"%(asctime)s - %(levelname)s - %(message)s\")\n",
    "\n",
    "import geopandas as gpd\n",
    "\n",
    "from extract_basin_shapefiles import extract_basin_shapefiles\n"
   ]
  },
  {
   "cell_type": "code",
   "execution_count": null,
   "id": "c9df25a3",
   "metadata": {},
   "outputs": [],
   "source": [
    "dem_path = \"path/to/your/dem.tif\"\n",
    "gauges_path = \"path/to/your/gauges.shp\"\n",
    "output_dir = \"path/to/output/directory\"\n",
    "\n",
    "\n",
    "result_shapefile = extract_basin_shapefiles(\n",
    "    dem_path=dem_path,\n",
    "    gauges_shapefile_path=gauges_path,\n",
    "    output_directory=output_dir,\n",
    "    breach_dist=5,\n",
    "    stream_extract_threshold=100,\n",
    "    snap_dist=1000,\n",
    ")"
   ]
  }
 ],
 "metadata": {
  "kernelspec": {
   "display_name": ".venv",
   "language": "python",
   "name": "python3"
  },
  "language_info": {
   "codemirror_mode": {
    "name": "ipython",
    "version": 3
   },
   "file_extension": ".py",
   "mimetype": "text/x-python",
   "name": "python",
   "nbconvert_exporter": "python",
   "pygments_lexer": "ipython3",
   "version": "3.12.8"
  }
 },
 "nbformat": 4,
 "nbformat_minor": 5
}
