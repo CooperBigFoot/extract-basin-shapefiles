{
 "cells": [
  {
   "cell_type": "code",
   "execution_count": 1,
   "id": "0c0cead8",
   "metadata": {},
   "outputs": [],
   "source": [
    "import logging\n",
    "\n",
    "logging.basicConfig(level=logging.INFO, format='%(asctime)s - %(levelname)s - %(message)s')\n",
    "\n",
    "import geopandas as gpd\n",
    "import matplotlib.pyplot as plt\n",
    "import numpy as np\n",
    "import rasterio\n",
    "\n",
    "from extract_basin_shapefiles import extract_basin_shapefiles\n"
   ]
  },
  {
   "cell_type": "code",
   "execution_count": 2,
   "id": "c9df25a3",
   "metadata": {},
   "outputs": [
    {
     "name": "stderr",
     "output_type": "stream",
     "text": [
      "2025-06-09 18:01:34,873 - INFO - Starting watershed delineation process\n",
      "2025-06-09 18:01:34,873 - INFO - Setting up working environment\n",
      "2025-06-09 18:01:34,874 - INFO - Validating input data and optimizing CRS for hydrological analysis\n",
      "2025-06-09 18:01:35,026 - INFO - Loaded 420 gauge records\n",
      "2025-06-09 18:01:35,027 - INFO - Data in geographic coordinates, detecting optimal UTM zone\n",
      "2025-06-09 18:01:35,027 - WARNING - Data spans 40.9 degrees longitude (multiple UTM zones). Using zone 42N for center point.\n",
      "2025-06-09 18:01:35,028 - INFO - Detected optimal UTM zone: 42N (EPSG:32642)\n",
      "2025-06-09 18:01:35,030 - INFO - Auto-selected UTM zone for optimal hydrological analysis: EPSG:32642\n",
      "2025-06-09 18:01:35,032 - INFO - Reprojecting DEM from EPSG:4326 to EPSG:32642\n",
      "2025-06-09 18:12:51,285 - INFO - Reprojecting gauges from EPSG:4326 to EPSG:32642\n",
      "2025-06-09 18:12:51,535 - INFO - Created 420 records\n",
      "2025-06-09 18:12:51,536 - INFO - Pre-processing DEM (this may take a while for large DEMs)\n",
      "2025-06-09 18:12:51,536 - INFO - Conditioning DEM with optimized settings\n"
     ]
    },
    {
     "name": "stdout",
     "output_type": "stream",
     "text": [
      "./whitebox_tools --run=\"FillDepressionsWangAndLiu\" --wd=\"/Users/cooper/Desktop/kazakhstan-data/shapefiles/SRTM_30m/temp_processing\" --dem='/Users/cooper/Desktop/kazakhstan-data/shapefiles/SRTM_30m/temp_processing/input_dem.tif' --output='/Users/cooper/Desktop/kazakhstan-data/shapefiles/SRTM_30m/temp_processing/dem_filled_raw.tif' --fix_flats -v --compress_rasters=False\n",
      "\n",
      "****************************************\n",
      "* Welcome to FillDepressionsWangAndLiu *\n",
      "* Powered by WhiteboxTools             *\n",
      "* www.whiteboxgeo.com                  *\n",
      "****************************************\n",
      "Reading data...\n"
     ]
    },
    {
     "name": "stderr",
     "output_type": "stream",
     "text": [
      "2025-06-09 18:13:27,817 - ERROR - Failed to fix GeoTIFF metadata: ERROR 4: /Users/cooper/Desktop/kazakhstan-data/shapefiles/SRTM_30m/temp_processing/dem_filled_raw.tif: No such file or directory\n",
      "\n",
      "2025-06-09 18:13:27,859 - ERROR - Wang & Liu depression filling failed: GDAL translate failed: ERROR 4: /Users/cooper/Desktop/kazakhstan-data/shapefiles/SRTM_30m/temp_processing/dem_filled_raw.tif: No such file or directory\n",
      "\n",
      "2025-06-09 18:13:27,866 - WARNING - Using Planchon & Darboux depression filling as fallback\n"
     ]
    },
    {
     "name": "stdout",
     "output_type": "stream",
     "text": [
      "./whitebox_tools --run=\"FillDepressions\" --wd=\"/Users/cooper/Desktop/kazakhstan-data/shapefiles/SRTM_30m/temp_processing\" --dem='/Users/cooper/Desktop/kazakhstan-data/shapefiles/SRTM_30m/temp_processing/input_dem.tif' --output='/Users/cooper/Desktop/kazakhstan-data/shapefiles/SRTM_30m/temp_processing/dem_filled_pd_raw.tif' --fix_flats -v --compress_rasters=False\n",
      "\n",
      "******************************\n",
      "* Welcome to FillDepressions *\n",
      "* Powered by WhiteboxTools   *\n",
      "* www.whiteboxgeo.com        *\n",
      "******************************\n",
      "Reading data...\n"
     ]
    },
    {
     "name": "stderr",
     "output_type": "stream",
     "text": [
      "2025-06-09 18:14:01,140 - ERROR - Failed to fix GeoTIFF metadata: ERROR 4: /Users/cooper/Desktop/kazakhstan-data/shapefiles/SRTM_30m/temp_processing/dem_filled_pd_raw.tif: No such file or directory\n",
      "\n",
      "2025-06-09 18:14:01,144 - ERROR - Planchon & Darboux filling failed: GDAL translate failed: ERROR 4: /Users/cooper/Desktop/kazakhstan-data/shapefiles/SRTM_30m/temp_processing/dem_filled_pd_raw.tif: No such file or directory\n",
      "\n",
      "2025-06-09 18:14:01,145 - WARNING - Using original breach method as final fallback\n"
     ]
    },
    {
     "name": "stdout",
     "output_type": "stream",
     "text": [
      "./whitebox_tools --run=\"FillSingleCellPits\" --wd=\"/Users/cooper/Desktop/kazakhstan-data/shapefiles/SRTM_30m/temp_processing\" --dem='/Users/cooper/Desktop/kazakhstan-data/shapefiles/SRTM_30m/temp_processing/input_dem.tif' --output='/Users/cooper/Desktop/kazakhstan-data/shapefiles/SRTM_30m/temp_processing/dem_filled_orig_raw.tif' -v --compress_rasters=False\n",
      "\n",
      "*********************************\n",
      "* Welcome to FillSingleCellPits *\n",
      "* Powered by WhiteboxTools      *\n",
      "* www.whiteboxgeo.com           *\n",
      "*********************************\n"
     ]
    },
    {
     "name": "stderr",
     "output_type": "stream",
     "text": [
      "2025-06-09 18:14:34,735 - ERROR - Failed to fix GeoTIFF metadata: ERROR 4: /Users/cooper/Desktop/kazakhstan-data/shapefiles/SRTM_30m/temp_processing/dem_filled_orig_raw.tif: No such file or directory\n",
      "\n",
      "2025-06-09 18:14:34,748 - ERROR - Watershed delineation failed: DEM conditioning failed: GDAL translate failed: ERROR 4: /Users/cooper/Desktop/kazakhstan-data/shapefiles/SRTM_30m/temp_processing/dem_filled_orig_raw.tif: No such file or directory\n",
      "\n",
      "2025-06-09 18:14:34,769 - INFO - Cleaning up temporary files\n",
      "2025-06-09 18:14:35,924 - INFO - Temporary files cleaned up successfully\n"
     ]
    },
    {
     "ename": "RuntimeError",
     "evalue": "Watershed delineation failed: DEM conditioning failed: GDAL translate failed: ERROR 4: /Users/cooper/Desktop/kazakhstan-data/shapefiles/SRTM_30m/temp_processing/dem_filled_orig_raw.tif: No such file or directory\n",
     "output_type": "error",
     "traceback": [
      "\u001b[31m---------------------------------------------------------------------------\u001b[39m",
      "\u001b[31mCalledProcessError\u001b[39m                        Traceback (most recent call last)",
      "\u001b[36mFile \u001b[39m\u001b[32m~/Desktop/extract-basin-shapefiles/extract_basin_shapefiles.py:128\u001b[39m, in \u001b[36mfix_whitebox_geotiff\u001b[39m\u001b[34m(input_path, output_path, target_crs, big_tiff)\u001b[39m\n\u001b[32m    119\u001b[39m cmd.extend(\n\u001b[32m    120\u001b[39m     [\n\u001b[32m    121\u001b[39m         \u001b[33m\"\u001b[39m\u001b[33m-a_srs\u001b[39m\u001b[33m\"\u001b[39m,\n\u001b[32m   (...)\u001b[39m\u001b[32m    125\u001b[39m     ]\n\u001b[32m    126\u001b[39m )\n\u001b[32m--> \u001b[39m\u001b[32m128\u001b[39m result = \u001b[43msubprocess\u001b[49m\u001b[43m.\u001b[49m\u001b[43mrun\u001b[49m\u001b[43m(\u001b[49m\u001b[43mcmd\u001b[49m\u001b[43m,\u001b[49m\u001b[43m \u001b[49m\u001b[43mcapture_output\u001b[49m\u001b[43m=\u001b[49m\u001b[38;5;28;43;01mTrue\u001b[39;49;00m\u001b[43m,\u001b[49m\u001b[43m \u001b[49m\u001b[43mtext\u001b[49m\u001b[43m=\u001b[49m\u001b[38;5;28;43;01mTrue\u001b[39;49;00m\u001b[43m,\u001b[49m\u001b[43m \u001b[49m\u001b[43mcheck\u001b[49m\u001b[43m=\u001b[49m\u001b[38;5;28;43;01mTrue\u001b[39;49;00m\u001b[43m)\u001b[49m\n\u001b[32m    129\u001b[39m logger.debug(\u001b[33mf\u001b[39m\u001b[33m\"\u001b[39m\u001b[33mFixed GeoTIFF metadata with CRS \u001b[39m\u001b[38;5;132;01m{\u001b[39;00mcrs_string\u001b[38;5;132;01m}\u001b[39;00m\u001b[33m: \u001b[39m\u001b[38;5;132;01m{\u001b[39;00moutput_path\u001b[38;5;132;01m}\u001b[39;00m\u001b[33m\"\u001b[39m)\n",
      "\u001b[36mFile \u001b[39m\u001b[32m~/.local/share/uv/python/cpython-3.12.8-macos-aarch64-none/lib/python3.12/subprocess.py:571\u001b[39m, in \u001b[36mrun\u001b[39m\u001b[34m(input, capture_output, timeout, check, *popenargs, **kwargs)\u001b[39m\n\u001b[32m    570\u001b[39m     \u001b[38;5;28;01mif\u001b[39;00m check \u001b[38;5;129;01mand\u001b[39;00m retcode:\n\u001b[32m--> \u001b[39m\u001b[32m571\u001b[39m         \u001b[38;5;28;01mraise\u001b[39;00m CalledProcessError(retcode, process.args,\n\u001b[32m    572\u001b[39m                                  output=stdout, stderr=stderr)\n\u001b[32m    573\u001b[39m \u001b[38;5;28;01mreturn\u001b[39;00m CompletedProcess(process.args, retcode, stdout, stderr)\n",
      "\u001b[31mCalledProcessError\u001b[39m: Command '['gdal_translate', '-co', 'COMPRESS=LZW', '-co', 'TILED=YES', '-co', 'BIGTIFF=YES', '-a_srs', 'EPSG:32642', '/Users/cooper/Desktop/kazakhstan-data/shapefiles/SRTM_30m/temp_processing/dem_filled_raw.tif', '/Users/cooper/Desktop/kazakhstan-data/shapefiles/SRTM_30m/temp_processing/dem_filled.tif']' returned non-zero exit status 1.",
      "\nThe above exception was the direct cause of the following exception:\n",
      "\u001b[31mRuntimeError\u001b[39m                              Traceback (most recent call last)",
      "\u001b[36mFile \u001b[39m\u001b[32m~/Desktop/extract-basin-shapefiles/extract_basin_shapefiles.py:253\u001b[39m, in \u001b[36m_condition_dem_optimized\u001b[39m\u001b[34m(temp_dir, temp_dem, breach_dist, big_tiff)\u001b[39m\n\u001b[32m    252\u001b[39m filled_dem = temp_dir / \u001b[33m\"\u001b[39m\u001b[33mdem_filled.tif\u001b[39m\u001b[33m\"\u001b[39m\n\u001b[32m--> \u001b[39m\u001b[32m253\u001b[39m \u001b[43mfix_whitebox_geotiff\u001b[49m\u001b[43m(\u001b[49m\u001b[43mfilled_dem_raw\u001b[49m\u001b[43m,\u001b[49m\u001b[43m \u001b[49m\u001b[43mfilled_dem\u001b[49m\u001b[43m,\u001b[49m\u001b[43m \u001b[49m\u001b[43mdem_crs\u001b[49m\u001b[43m,\u001b[49m\u001b[43m \u001b[49m\u001b[43mbig_tiff\u001b[49m\u001b[43m)\u001b[49m\n\u001b[32m    255\u001b[39m \u001b[38;5;66;03m# Clean up raw file\u001b[39;00m\n",
      "\u001b[36mFile \u001b[39m\u001b[32m~/Desktop/extract-basin-shapefiles/extract_basin_shapefiles.py:134\u001b[39m, in \u001b[36mfix_whitebox_geotiff\u001b[39m\u001b[34m(input_path, output_path, target_crs, big_tiff)\u001b[39m\n\u001b[32m    133\u001b[39m logger.error(\u001b[33mf\u001b[39m\u001b[33m\"\u001b[39m\u001b[33mFailed to fix GeoTIFF metadata: \u001b[39m\u001b[38;5;132;01m{\u001b[39;00me.stderr\u001b[38;5;132;01m}\u001b[39;00m\u001b[33m\"\u001b[39m)\n\u001b[32m--> \u001b[39m\u001b[32m134\u001b[39m \u001b[38;5;28;01mraise\u001b[39;00m \u001b[38;5;167;01mRuntimeError\u001b[39;00m(\u001b[33mf\u001b[39m\u001b[33m\"\u001b[39m\u001b[33mGDAL translate failed: \u001b[39m\u001b[38;5;132;01m{\u001b[39;00me.stderr\u001b[38;5;132;01m}\u001b[39;00m\u001b[33m\"\u001b[39m) \u001b[38;5;28;01mfrom\u001b[39;00m\u001b[38;5;250m \u001b[39m\u001b[34;01me\u001b[39;00m\n",
      "\u001b[31mRuntimeError\u001b[39m: GDAL translate failed: ERROR 4: /Users/cooper/Desktop/kazakhstan-data/shapefiles/SRTM_30m/temp_processing/dem_filled_raw.tif: No such file or directory\n",
      "\nDuring handling of the above exception, another exception occurred:\n",
      "\u001b[31mCalledProcessError\u001b[39m                        Traceback (most recent call last)",
      "\u001b[36mFile \u001b[39m\u001b[32m~/Desktop/extract-basin-shapefiles/extract_basin_shapefiles.py:128\u001b[39m, in \u001b[36mfix_whitebox_geotiff\u001b[39m\u001b[34m(input_path, output_path, target_crs, big_tiff)\u001b[39m\n\u001b[32m    119\u001b[39m cmd.extend(\n\u001b[32m    120\u001b[39m     [\n\u001b[32m    121\u001b[39m         \u001b[33m\"\u001b[39m\u001b[33m-a_srs\u001b[39m\u001b[33m\"\u001b[39m,\n\u001b[32m   (...)\u001b[39m\u001b[32m    125\u001b[39m     ]\n\u001b[32m    126\u001b[39m )\n\u001b[32m--> \u001b[39m\u001b[32m128\u001b[39m result = \u001b[43msubprocess\u001b[49m\u001b[43m.\u001b[49m\u001b[43mrun\u001b[49m\u001b[43m(\u001b[49m\u001b[43mcmd\u001b[49m\u001b[43m,\u001b[49m\u001b[43m \u001b[49m\u001b[43mcapture_output\u001b[49m\u001b[43m=\u001b[49m\u001b[38;5;28;43;01mTrue\u001b[39;49;00m\u001b[43m,\u001b[49m\u001b[43m \u001b[49m\u001b[43mtext\u001b[49m\u001b[43m=\u001b[49m\u001b[38;5;28;43;01mTrue\u001b[39;49;00m\u001b[43m,\u001b[49m\u001b[43m \u001b[49m\u001b[43mcheck\u001b[49m\u001b[43m=\u001b[49m\u001b[38;5;28;43;01mTrue\u001b[39;49;00m\u001b[43m)\u001b[49m\n\u001b[32m    129\u001b[39m logger.debug(\u001b[33mf\u001b[39m\u001b[33m\"\u001b[39m\u001b[33mFixed GeoTIFF metadata with CRS \u001b[39m\u001b[38;5;132;01m{\u001b[39;00mcrs_string\u001b[38;5;132;01m}\u001b[39;00m\u001b[33m: \u001b[39m\u001b[38;5;132;01m{\u001b[39;00moutput_path\u001b[38;5;132;01m}\u001b[39;00m\u001b[33m\"\u001b[39m)\n",
      "\u001b[36mFile \u001b[39m\u001b[32m~/.local/share/uv/python/cpython-3.12.8-macos-aarch64-none/lib/python3.12/subprocess.py:571\u001b[39m, in \u001b[36mrun\u001b[39m\u001b[34m(input, capture_output, timeout, check, *popenargs, **kwargs)\u001b[39m\n\u001b[32m    570\u001b[39m     \u001b[38;5;28;01mif\u001b[39;00m check \u001b[38;5;129;01mand\u001b[39;00m retcode:\n\u001b[32m--> \u001b[39m\u001b[32m571\u001b[39m         \u001b[38;5;28;01mraise\u001b[39;00m CalledProcessError(retcode, process.args,\n\u001b[32m    572\u001b[39m                                  output=stdout, stderr=stderr)\n\u001b[32m    573\u001b[39m \u001b[38;5;28;01mreturn\u001b[39;00m CompletedProcess(process.args, retcode, stdout, stderr)\n",
      "\u001b[31mCalledProcessError\u001b[39m: Command '['gdal_translate', '-co', 'COMPRESS=LZW', '-co', 'TILED=YES', '-co', 'BIGTIFF=YES', '-a_srs', 'EPSG:32642', '/Users/cooper/Desktop/kazakhstan-data/shapefiles/SRTM_30m/temp_processing/dem_filled_pd_raw.tif', '/Users/cooper/Desktop/kazakhstan-data/shapefiles/SRTM_30m/temp_processing/dem_filled_pd.tif']' returned non-zero exit status 1.",
      "\nThe above exception was the direct cause of the following exception:\n",
      "\u001b[31mRuntimeError\u001b[39m                              Traceback (most recent call last)",
      "\u001b[36mFile \u001b[39m\u001b[32m~/Desktop/extract-basin-shapefiles/extract_basin_shapefiles.py:278\u001b[39m, in \u001b[36m_condition_dem_planchon_darboux\u001b[39m\u001b[34m(wbt, temp_dem, temp_dir, breach_dist, dem_crs, big_tiff)\u001b[39m\n\u001b[32m    277\u001b[39m filled_dem = temp_dir / \u001b[33m\"\u001b[39m\u001b[33mdem_filled_pd.tif\u001b[39m\u001b[33m\"\u001b[39m\n\u001b[32m--> \u001b[39m\u001b[32m278\u001b[39m \u001b[43mfix_whitebox_geotiff\u001b[49m\u001b[43m(\u001b[49m\u001b[43mfilled_dem_raw\u001b[49m\u001b[43m,\u001b[49m\u001b[43m \u001b[49m\u001b[43mfilled_dem\u001b[49m\u001b[43m,\u001b[49m\u001b[43m \u001b[49m\u001b[43mdem_crs\u001b[49m\u001b[43m,\u001b[49m\u001b[43m \u001b[49m\u001b[43mbig_tiff\u001b[49m\u001b[43m)\u001b[49m\n\u001b[32m    280\u001b[39m \u001b[38;5;66;03m# Clean up raw file\u001b[39;00m\n",
      "\u001b[36mFile \u001b[39m\u001b[32m~/Desktop/extract-basin-shapefiles/extract_basin_shapefiles.py:134\u001b[39m, in \u001b[36mfix_whitebox_geotiff\u001b[39m\u001b[34m(input_path, output_path, target_crs, big_tiff)\u001b[39m\n\u001b[32m    133\u001b[39m logger.error(\u001b[33mf\u001b[39m\u001b[33m\"\u001b[39m\u001b[33mFailed to fix GeoTIFF metadata: \u001b[39m\u001b[38;5;132;01m{\u001b[39;00me.stderr\u001b[38;5;132;01m}\u001b[39;00m\u001b[33m\"\u001b[39m)\n\u001b[32m--> \u001b[39m\u001b[32m134\u001b[39m \u001b[38;5;28;01mraise\u001b[39;00m \u001b[38;5;167;01mRuntimeError\u001b[39;00m(\u001b[33mf\u001b[39m\u001b[33m\"\u001b[39m\u001b[33mGDAL translate failed: \u001b[39m\u001b[38;5;132;01m{\u001b[39;00me.stderr\u001b[38;5;132;01m}\u001b[39;00m\u001b[33m\"\u001b[39m) \u001b[38;5;28;01mfrom\u001b[39;00m\u001b[38;5;250m \u001b[39m\u001b[34;01me\u001b[39;00m\n",
      "\u001b[31mRuntimeError\u001b[39m: GDAL translate failed: ERROR 4: /Users/cooper/Desktop/kazakhstan-data/shapefiles/SRTM_30m/temp_processing/dem_filled_pd_raw.tif: No such file or directory\n",
      "\nDuring handling of the above exception, another exception occurred:\n",
      "\u001b[31mCalledProcessError\u001b[39m                        Traceback (most recent call last)",
      "\u001b[36mFile \u001b[39m\u001b[32m~/Desktop/extract-basin-shapefiles/extract_basin_shapefiles.py:128\u001b[39m, in \u001b[36mfix_whitebox_geotiff\u001b[39m\u001b[34m(input_path, output_path, target_crs, big_tiff)\u001b[39m\n\u001b[32m    119\u001b[39m cmd.extend(\n\u001b[32m    120\u001b[39m     [\n\u001b[32m    121\u001b[39m         \u001b[33m\"\u001b[39m\u001b[33m-a_srs\u001b[39m\u001b[33m\"\u001b[39m,\n\u001b[32m   (...)\u001b[39m\u001b[32m    125\u001b[39m     ]\n\u001b[32m    126\u001b[39m )\n\u001b[32m--> \u001b[39m\u001b[32m128\u001b[39m result = \u001b[43msubprocess\u001b[49m\u001b[43m.\u001b[49m\u001b[43mrun\u001b[49m\u001b[43m(\u001b[49m\u001b[43mcmd\u001b[49m\u001b[43m,\u001b[49m\u001b[43m \u001b[49m\u001b[43mcapture_output\u001b[49m\u001b[43m=\u001b[49m\u001b[38;5;28;43;01mTrue\u001b[39;49;00m\u001b[43m,\u001b[49m\u001b[43m \u001b[49m\u001b[43mtext\u001b[49m\u001b[43m=\u001b[49m\u001b[38;5;28;43;01mTrue\u001b[39;49;00m\u001b[43m,\u001b[49m\u001b[43m \u001b[49m\u001b[43mcheck\u001b[49m\u001b[43m=\u001b[49m\u001b[38;5;28;43;01mTrue\u001b[39;49;00m\u001b[43m)\u001b[49m\n\u001b[32m    129\u001b[39m logger.debug(\u001b[33mf\u001b[39m\u001b[33m\"\u001b[39m\u001b[33mFixed GeoTIFF metadata with CRS \u001b[39m\u001b[38;5;132;01m{\u001b[39;00mcrs_string\u001b[38;5;132;01m}\u001b[39;00m\u001b[33m: \u001b[39m\u001b[38;5;132;01m{\u001b[39;00moutput_path\u001b[38;5;132;01m}\u001b[39;00m\u001b[33m\"\u001b[39m)\n",
      "\u001b[36mFile \u001b[39m\u001b[32m~/.local/share/uv/python/cpython-3.12.8-macos-aarch64-none/lib/python3.12/subprocess.py:571\u001b[39m, in \u001b[36mrun\u001b[39m\u001b[34m(input, capture_output, timeout, check, *popenargs, **kwargs)\u001b[39m\n\u001b[32m    570\u001b[39m     \u001b[38;5;28;01mif\u001b[39;00m check \u001b[38;5;129;01mand\u001b[39;00m retcode:\n\u001b[32m--> \u001b[39m\u001b[32m571\u001b[39m         \u001b[38;5;28;01mraise\u001b[39;00m CalledProcessError(retcode, process.args,\n\u001b[32m    572\u001b[39m                                  output=stdout, stderr=stderr)\n\u001b[32m    573\u001b[39m \u001b[38;5;28;01mreturn\u001b[39;00m CompletedProcess(process.args, retcode, stdout, stderr)\n",
      "\u001b[31mCalledProcessError\u001b[39m: Command '['gdal_translate', '-co', 'COMPRESS=LZW', '-co', 'TILED=YES', '-co', 'BIGTIFF=YES', '-a_srs', 'EPSG:32642', '/Users/cooper/Desktop/kazakhstan-data/shapefiles/SRTM_30m/temp_processing/dem_filled_orig_raw.tif', '/Users/cooper/Desktop/kazakhstan-data/shapefiles/SRTM_30m/temp_processing/dem_filled_orig.tif']' returned non-zero exit status 1.",
      "\nThe above exception was the direct cause of the following exception:\n",
      "\u001b[31mRuntimeError\u001b[39m                              Traceback (most recent call last)",
      "\u001b[36mFile \u001b[39m\u001b[32m~/Desktop/extract-basin-shapefiles/extract_basin_shapefiles.py:302\u001b[39m, in \u001b[36m_condition_dem_original_fixed\u001b[39m\u001b[34m(wbt, temp_dem, breach_dist, temp_dir, dem_crs, big_tiff)\u001b[39m\n\u001b[32m    301\u001b[39m filled_dem = temp_dir / \u001b[33m\"\u001b[39m\u001b[33mdem_filled_orig.tif\u001b[39m\u001b[33m\"\u001b[39m\n\u001b[32m--> \u001b[39m\u001b[32m302\u001b[39m \u001b[43mfix_whitebox_geotiff\u001b[49m\u001b[43m(\u001b[49m\u001b[43mfilled_dem_raw\u001b[49m\u001b[43m,\u001b[49m\u001b[43m \u001b[49m\u001b[43mfilled_dem\u001b[49m\u001b[43m,\u001b[49m\u001b[43m \u001b[49m\u001b[43mdem_crs\u001b[49m\u001b[43m,\u001b[49m\u001b[43m \u001b[49m\u001b[43mbig_tiff\u001b[49m\u001b[43m)\u001b[49m\n\u001b[32m    304\u001b[39m breached_dem_raw = temp_dir / \u001b[33m\"\u001b[39m\u001b[33mdem_breached_raw.tif\u001b[39m\u001b[33m\"\u001b[39m\n",
      "\u001b[36mFile \u001b[39m\u001b[32m~/Desktop/extract-basin-shapefiles/extract_basin_shapefiles.py:134\u001b[39m, in \u001b[36mfix_whitebox_geotiff\u001b[39m\u001b[34m(input_path, output_path, target_crs, big_tiff)\u001b[39m\n\u001b[32m    133\u001b[39m logger.error(\u001b[33mf\u001b[39m\u001b[33m\"\u001b[39m\u001b[33mFailed to fix GeoTIFF metadata: \u001b[39m\u001b[38;5;132;01m{\u001b[39;00me.stderr\u001b[38;5;132;01m}\u001b[39;00m\u001b[33m\"\u001b[39m)\n\u001b[32m--> \u001b[39m\u001b[32m134\u001b[39m \u001b[38;5;28;01mraise\u001b[39;00m \u001b[38;5;167;01mRuntimeError\u001b[39;00m(\u001b[33mf\u001b[39m\u001b[33m\"\u001b[39m\u001b[33mGDAL translate failed: \u001b[39m\u001b[38;5;132;01m{\u001b[39;00me.stderr\u001b[38;5;132;01m}\u001b[39;00m\u001b[33m\"\u001b[39m) \u001b[38;5;28;01mfrom\u001b[39;00m\u001b[38;5;250m \u001b[39m\u001b[34;01me\u001b[39;00m\n",
      "\u001b[31mRuntimeError\u001b[39m: GDAL translate failed: ERROR 4: /Users/cooper/Desktop/kazakhstan-data/shapefiles/SRTM_30m/temp_processing/dem_filled_orig_raw.tif: No such file or directory\n",
      "\nThe above exception was the direct cause of the following exception:\n",
      "\u001b[31mRuntimeError\u001b[39m                              Traceback (most recent call last)",
      "\u001b[36mFile \u001b[39m\u001b[32m~/Desktop/extract-basin-shapefiles/extract_basin_shapefiles.py:188\u001b[39m, in \u001b[36mextract_basin_shapefiles\u001b[39m\u001b[34m(dem_path, gauges_shapefile_path, output_directory, breach_dist, stream_extract_threshold, snap_dist, use_dinf, target_utm_zone, big_tiff)\u001b[39m\n\u001b[32m    187\u001b[39m logger.info(\u001b[33m\"\u001b[39m\u001b[33mPre-processing DEM (this may take a while for large DEMs)\u001b[39m\u001b[33m\"\u001b[39m)\n\u001b[32m--> \u001b[39m\u001b[32m188\u001b[39m filled_dem = \u001b[43m_condition_dem_optimized\u001b[49m\u001b[43m(\u001b[49m\u001b[43mtemp_dir\u001b[49m\u001b[43m,\u001b[49m\u001b[43m \u001b[49m\u001b[43mtemp_dem\u001b[49m\u001b[43m,\u001b[49m\u001b[43m \u001b[49m\u001b[43mbreach_dist\u001b[49m\u001b[43m,\u001b[49m\u001b[43m \u001b[49m\u001b[43mbig_tiff\u001b[49m\u001b[43m)\u001b[49m\n\u001b[32m    189\u001b[39m flow_pointer, flow_accum, d8_pointer = _calculate_flow_analysis_optimized(\n\u001b[32m    190\u001b[39m     temp_dir, filled_dem, use_dinf, big_tiff\n\u001b[32m    191\u001b[39m )\n",
      "\u001b[36mFile \u001b[39m\u001b[32m~/Desktop/extract-basin-shapefiles/extract_basin_shapefiles.py:264\u001b[39m, in \u001b[36m_condition_dem_optimized\u001b[39m\u001b[34m(temp_dir, temp_dem, breach_dist, big_tiff)\u001b[39m\n\u001b[32m    263\u001b[39m logger.warning(\u001b[33m\"\u001b[39m\u001b[33mUsing Planchon & Darboux depression filling as fallback\u001b[39m\u001b[33m\"\u001b[39m)\n\u001b[32m--> \u001b[39m\u001b[32m264\u001b[39m \u001b[38;5;28;01mreturn\u001b[39;00m \u001b[43m_condition_dem_planchon_darboux\u001b[49m\u001b[43m(\u001b[49m\u001b[43mwbt\u001b[49m\u001b[43m,\u001b[49m\u001b[43m \u001b[49m\u001b[43mtemp_dem\u001b[49m\u001b[43m,\u001b[49m\u001b[43m \u001b[49m\u001b[43mtemp_dir\u001b[49m\u001b[43m,\u001b[49m\u001b[43m \u001b[49m\u001b[43mbreach_dist\u001b[49m\u001b[43m,\u001b[49m\u001b[43m \u001b[49m\u001b[43mdem_crs\u001b[49m\u001b[43m,\u001b[49m\u001b[43m \u001b[49m\u001b[43mbig_tiff\u001b[49m\u001b[43m)\u001b[49m\n",
      "\u001b[36mFile \u001b[39m\u001b[32m~/Desktop/extract-basin-shapefiles/extract_basin_shapefiles.py:289\u001b[39m, in \u001b[36m_condition_dem_planchon_darboux\u001b[39m\u001b[34m(wbt, temp_dem, temp_dir, breach_dist, dem_crs, big_tiff)\u001b[39m\n\u001b[32m    288\u001b[39m logger.warning(\u001b[33m\"\u001b[39m\u001b[33mUsing original breach method as final fallback\u001b[39m\u001b[33m\"\u001b[39m)\n\u001b[32m--> \u001b[39m\u001b[32m289\u001b[39m \u001b[38;5;28;01mreturn\u001b[39;00m \u001b[43m_condition_dem_original_fixed\u001b[49m\u001b[43m(\u001b[49m\u001b[43mwbt\u001b[49m\u001b[43m,\u001b[49m\u001b[43m \u001b[49m\u001b[43mtemp_dem\u001b[49m\u001b[43m,\u001b[49m\u001b[43m \u001b[49m\u001b[43mbreach_dist\u001b[49m\u001b[43m,\u001b[49m\u001b[43m \u001b[49m\u001b[43mtemp_dir\u001b[49m\u001b[43m,\u001b[49m\u001b[43m \u001b[49m\u001b[43mdem_crs\u001b[49m\u001b[43m,\u001b[49m\u001b[43m \u001b[49m\u001b[43mbig_tiff\u001b[49m\u001b[43m)\u001b[49m\n",
      "\u001b[36mFile \u001b[39m\u001b[32m~/Desktop/extract-basin-shapefiles/extract_basin_shapefiles.py:323\u001b[39m, in \u001b[36m_condition_dem_original_fixed\u001b[39m\u001b[34m(wbt, temp_dem, breach_dist, temp_dir, dem_crs, big_tiff)\u001b[39m\n\u001b[32m    322\u001b[39m \u001b[38;5;28;01mexcept\u001b[39;00m \u001b[38;5;167;01mException\u001b[39;00m \u001b[38;5;28;01mas\u001b[39;00m e:\n\u001b[32m--> \u001b[39m\u001b[32m323\u001b[39m     \u001b[38;5;28;01mraise\u001b[39;00m \u001b[38;5;167;01mRuntimeError\u001b[39;00m(\u001b[33mf\u001b[39m\u001b[33m\"\u001b[39m\u001b[33mDEM conditioning failed: \u001b[39m\u001b[38;5;132;01m{\u001b[39;00me\u001b[38;5;132;01m}\u001b[39;00m\u001b[33m\"\u001b[39m) \u001b[38;5;28;01mfrom\u001b[39;00m\u001b[38;5;250m \u001b[39m\u001b[34;01me\u001b[39;00m\n",
      "\u001b[31mRuntimeError\u001b[39m: DEM conditioning failed: GDAL translate failed: ERROR 4: /Users/cooper/Desktop/kazakhstan-data/shapefiles/SRTM_30m/temp_processing/dem_filled_orig_raw.tif: No such file or directory\n",
      "\nThe above exception was the direct cause of the following exception:\n",
      "\u001b[31mRuntimeError\u001b[39m                              Traceback (most recent call last)",
      "\u001b[36mCell\u001b[39m\u001b[36m \u001b[39m\u001b[32mIn[2]\u001b[39m\u001b[32m, line 5\u001b[39m\n\u001b[32m      2\u001b[39m gauges_path = \u001b[33m\"\u001b[39m\u001b[33m/Users/cooper/Desktop/kazakhstan-data/shapefiles/gauge_location.shp\u001b[39m\u001b[33m\"\u001b[39m\n\u001b[32m      3\u001b[39m output_dir = \u001b[33m\"\u001b[39m\u001b[33m/Users/cooper/Desktop/kazakhstan-data/shapefiles/SRTM_30m\u001b[39m\u001b[33m\"\u001b[39m\n\u001b[32m----> \u001b[39m\u001b[32m5\u001b[39m result_shapefile = \u001b[43mextract_basin_shapefiles\u001b[49m\u001b[43m(\u001b[49m\n\u001b[32m      6\u001b[39m \u001b[43m    \u001b[49m\u001b[43mdem_path\u001b[49m\u001b[43m=\u001b[49m\u001b[43mdem_path\u001b[49m\u001b[43m,\u001b[49m\n\u001b[32m      7\u001b[39m \u001b[43m    \u001b[49m\u001b[43mgauges_shapefile_path\u001b[49m\u001b[43m=\u001b[49m\u001b[43mgauges_path\u001b[49m\u001b[43m,\u001b[49m\n\u001b[32m      8\u001b[39m \u001b[43m    \u001b[49m\u001b[43moutput_directory\u001b[49m\u001b[43m=\u001b[49m\u001b[43moutput_dir\u001b[49m\u001b[43m,\u001b[49m\n\u001b[32m      9\u001b[39m \u001b[43m    \u001b[49m\u001b[43mbreach_dist\u001b[49m\u001b[43m=\u001b[49m\u001b[32;43m5\u001b[39;49m\u001b[43m,\u001b[49m\n\u001b[32m     10\u001b[39m \u001b[43m    \u001b[49m\u001b[43mstream_extract_threshold\u001b[49m\u001b[43m=\u001b[49m\u001b[32;43m100\u001b[39;49m\u001b[43m,\u001b[49m\n\u001b[32m     11\u001b[39m \u001b[43m    \u001b[49m\u001b[43msnap_dist\u001b[49m\u001b[43m=\u001b[49m\u001b[32;43m500\u001b[39;49m\u001b[43m,\u001b[49m\n\u001b[32m     12\u001b[39m \u001b[43m    \u001b[49m\u001b[43muse_dinf\u001b[49m\u001b[43m=\u001b[49m\u001b[38;5;28;43;01mFalse\u001b[39;49;00m\u001b[43m,\u001b[49m\n\u001b[32m     13\u001b[39m \u001b[43m    \u001b[49m\u001b[43mbig_tiff\u001b[49m\u001b[43m=\u001b[49m\u001b[38;5;28;43;01mTrue\u001b[39;49;00m\u001b[43m,\u001b[49m\n\u001b[32m     14\u001b[39m \u001b[43m)\u001b[49m\n",
      "\u001b[36mFile \u001b[39m\u001b[32m~/Desktop/extract-basin-shapefiles/extract_basin_shapefiles.py:227\u001b[39m, in \u001b[36mextract_basin_shapefiles\u001b[39m\u001b[34m(dem_path, gauges_shapefile_path, output_directory, breach_dist, stream_extract_threshold, snap_dist, use_dinf, target_utm_zone, big_tiff)\u001b[39m\n\u001b[32m    225\u001b[39m \u001b[38;5;28;01mexcept\u001b[39;00m \u001b[38;5;167;01mException\u001b[39;00m \u001b[38;5;28;01mas\u001b[39;00m e:\n\u001b[32m    226\u001b[39m     logger.error(\u001b[33mf\u001b[39m\u001b[33m\"\u001b[39m\u001b[33mWatershed delineation failed: \u001b[39m\u001b[38;5;132;01m{\u001b[39;00me\u001b[38;5;132;01m}\u001b[39;00m\u001b[33m\"\u001b[39m)\n\u001b[32m--> \u001b[39m\u001b[32m227\u001b[39m     \u001b[38;5;28;01mraise\u001b[39;00m \u001b[38;5;167;01mRuntimeError\u001b[39;00m(\u001b[33mf\u001b[39m\u001b[33m\"\u001b[39m\u001b[33mWatershed delineation failed: \u001b[39m\u001b[38;5;132;01m{\u001b[39;00me\u001b[38;5;132;01m}\u001b[39;00m\u001b[33m\"\u001b[39m) \u001b[38;5;28;01mfrom\u001b[39;00m\u001b[38;5;250m \u001b[39m\u001b[34;01me\u001b[39;00m\n\u001b[32m    229\u001b[39m \u001b[38;5;28;01mfinally\u001b[39;00m:\n\u001b[32m    230\u001b[39m     _cleanup_temp_files(temp_dir)\n",
      "\u001b[31mRuntimeError\u001b[39m: Watershed delineation failed: DEM conditioning failed: GDAL translate failed: ERROR 4: /Users/cooper/Desktop/kazakhstan-data/shapefiles/SRTM_30m/temp_processing/dem_filled_orig_raw.tif: No such file or directory\n"
     ]
    }
   ],
   "source": [
    "dem_path = \"/Users/cooper/Desktop/SRTM_30_Kazakhstan/Kazakhstan_DEM_final.tif\"\n",
    "gauges_path = \"/Users/cooper/Desktop/kazakhstan-data/shapefiles/gauge_location.shp\"\n",
    "output_dir = \"/Users/cooper/Desktop/kazakhstan-data/shapefiles/SRTM_30m\"\n",
    "\n",
    "result_shapefile = extract_basin_shapefiles(\n",
    "    dem_path=dem_path,\n",
    "    gauges_shapefile_path=gauges_path,\n",
    "    output_directory=output_dir,\n",
    "    breach_dist=5,\n",
    "    stream_extract_threshold=100,\n",
    "    snap_dist=500,\n",
    "    use_dinf=False,\n",
    "    big_tiff=True,\n",
    ")\n"
   ]
  },
  {
   "cell_type": "code",
   "execution_count": null,
   "id": "29bcc9d8",
   "metadata": {},
   "outputs": [],
   "source": []
  }
 ],
 "metadata": {
  "kernelspec": {
   "display_name": ".venv",
   "language": "python",
   "name": "python3"
  },
  "language_info": {
   "codemirror_mode": {
    "name": "ipython",
    "version": 3
   },
   "file_extension": ".py",
   "mimetype": "text/x-python",
   "name": "python",
   "nbconvert_exporter": "python",
   "pygments_lexer": "ipython3",
   "version": "3.12.8"
  }
 },
 "nbformat": 4,
 "nbformat_minor": 5
}
