{
 "cells": [
  {
   "cell_type": "code",
   "execution_count": null,
   "id": "fea83339",
   "metadata": {},
   "outputs": [],
   "source": [
    "import logging\n",
    "\n",
    "logging.basicConfig(level=logging.INFO, format='%(asctime)s - %(levelname)s - %(message)s')\n",
    "\n",
    "\n",
    "from extract_basin_shapefiles import extract_basin_shapefiles\n"
   ]
  },
  {
   "cell_type": "code",
   "execution_count": null,
   "id": "e48119b5",
   "metadata": {},
   "outputs": [],
   "source": [
    "dem_path = \"/Users/cooper/Desktop/kazakhstan-data/rasters/test_tajik/SRTM_90m_DEM_Tajikistan_buffered_3km.tif\"\n",
    "gauges_path = \"/Users/cooper/Desktop/kazakhstan-data/shapefiles/test_tajik/gauge_locations.shp\"\n",
    "output_dir = \"/Users/cooper/Desktop/kazakhstan-data/shapefiles/test_tajik/output/aiuto\"\n",
    "\n",
    "result_shapefile = extract_basin_shapefiles(\n",
    "    dem_path=dem_path,\n",
    "    gauges_shapefile_path=gauges_path,\n",
    "    output_directory=output_dir,\n",
    "    breach_dist=500,\n",
    "    stream_extract_threshold=15000,\n",
    "    snap_dist=1000,\n",
    "    big_tiff=False,\n",
    ")"
   ]
  },
  {
   "cell_type": "code",
   "execution_count": null,
   "id": "99fa1fdf",
   "metadata": {},
   "outputs": [],
   "source": []
  }
 ],
 "metadata": {
  "kernelspec": {
   "display_name": ".venv",
   "language": "python",
   "name": "python3"
  },
  "language_info": {
   "codemirror_mode": {
    "name": "ipython",
    "version": 3
   },
   "file_extension": ".py",
   "mimetype": "text/x-python",
   "name": "python",
   "nbconvert_exporter": "python",
   "pygments_lexer": "ipython3",
   "version": "3.12.8"
  }
 },
 "nbformat": 4,
 "nbformat_minor": 5
}
