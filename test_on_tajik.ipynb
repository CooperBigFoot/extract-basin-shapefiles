{
 "cells": [
  {
   "cell_type": "code",
   "execution_count": null,
   "id": "fea83339",
   "metadata": {},
   "outputs": [],
   "source": [
    "import logging\n",
    "\n",
    "logging.basicConfig(level=logging.INFO, format='%(asctime)s - %(levelname)s - %(message)s')\n",
    "\n",
    "\n",
    "from extract_basin_shapefiles import extract_basin_shapefiles, extract_basin_shapefiles_from_filled_dem\n"
   ]
  },
  {
   "cell_type": "code",
   "execution_count": null,
   "id": "e48119b5",
   "metadata": {},
   "outputs": [],
   "source": [
    "dem_path = \"path/to/your/dem.tif\"  # Replace with the path to your DEM file\n",
    "output_dir = \"path/to/output/directory\"  # Replace with your desired output directory\n",
    "dem_path = \"path/to/your/dem.tif\"  # Replace with the path to your DEM file\n",
    "gauges_path = \"path/to/your/gauges.shp\"  # Replace with the path to your gauges shapefile\n",
    "filled_dem_path = \"path/to/your/filled_dem.tif\"  # Replace with the path to your filled DEM file\n",
    "\n",
    "watersheds_path = extract_basin_shapefiles(\n",
    "    dem_path=dem_path,\n",
    "    gauges_shapefile_path=gauges_path,\n",
    "    output_directory=output_dir,\n",
    "    breach_dist=5,\n",
    "    stream_extract_threshold=1500,\n",
    "    snap_dist=1500,\n",
    "    target_utm_zone=None,\n",
    "    big_tiff=True,\n",
    "    keep_temp_dir_on_fail=True,\n",
    ")\n"
   ]
  },
  {
   "cell_type": "code",
   "execution_count": null,
   "id": "99fa1fdf",
   "metadata": {},
   "outputs": [],
   "source": [
    "extract_basin_shapefiles_from_filled_dem(\n",
    "    filled_dem_path=filled_dem_path,\n",
    "    gauges_shapefile_path=gauges_path,\n",
    "    output_directory=output_dir,\n",
    "    stream_extract_threshold=8000,\n",
    "    snap_dist=1500,\n",
    "    target_utm_zone=None,\n",
    "    big_tiff=True,\n",
    "    keep_temp_dir_on_fail=True,\n",
    ")"
   ]
  }
 ],
 "metadata": {
  "kernelspec": {
   "display_name": ".venv",
   "language": "python",
   "name": "python3"
  },
  "language_info": {
   "codemirror_mode": {
    "name": "ipython",
    "version": 3
   },
   "file_extension": ".py",
   "mimetype": "text/x-python",
   "name": "python",
   "nbconvert_exporter": "python",
   "pygments_lexer": "ipython3",
   "version": "3.12.11"
  }
 },
 "nbformat": 4,
 "nbformat_minor": 5
}
